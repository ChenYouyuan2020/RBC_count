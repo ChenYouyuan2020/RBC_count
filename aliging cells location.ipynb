{
 "cells": [
  {
   "cell_type": "code",
   "execution_count": 7,
   "id": "e78d08dd-b271-43d4-922b-a091255895d5",
   "metadata": {},
   "outputs": [
    {
     "data": {
      "text/plain": [
       "\"\\n#path for txt of contours:\\npath1 = path1[:-4] + '.txt'\\npath2 = path2[:-4] + '.txt'\\n\\n\\ncontours1 = read_contours(path1)\\ncontours2 = read_contours(path2)\\n\\nfluo = read_plot(fluo_path)\\n\""
      ]
     },
     "execution_count": 7,
     "metadata": {},
     "output_type": "execute_result"
    }
   ],
   "source": [
    "import numpy as np\n",
    "import os\n",
    "from pythg.aligning import *\n",
    "\n",
    "#get two fluo masking files, merge there cell location for calculate intensity ratio\n",
    "\n",
    "#path for csv of area and intensity:\n",
    "flod = r\"D:\\self_file\\RBC distribution test\"\n",
    "path_1 = r\"D:\\self_file\\RBC distribution test\\Position1 1230nm excitation\\1230 p65 HV120 Glavo 2.4 1024 z1 a1 P1_Z10_RGB_DAPI.csv\" # fluo with 1230nm, get csv from analysis.ipynb\n",
    "path_2 = r\"D:\\self_file\\RBC distribution test\\Position1 1240nm excitation\\1240 p90 HV120 Glavo 2.4 1024 z1 a1 P1_Z11_RGB_DAPI.csv\" # fluo with 1240nm, get csv from analysis.ipynb\n",
    "# save vs csv\n",
    "img1 = \"1230\"\n",
    "img2 = \"1240\"\n",
    "new_path = f\"{img1}-vs-{img2}.csv\"\n",
    "new_path = os.path.join(flod,new_path)\n",
    "fluo_path = path_1[:-4] + '.tif'\n",
    "fluo_path = os.path.join(flod,fluo_path)\n",
    "path1=os.path.join(flod,path_1)\n",
    "path2=os.path.join(flod,path_2)\n",
    "new_path=os.path.join(flod,new_path)\n",
    "file1 = np.loadtxt(path1,delimiter=',')\n",
    "file2 = np.loadtxt(path2,delimiter=',')\n",
    "\n",
    "save_aliging(file1,file2,new_path)\n",
    "\n",
    "\"\"\"\n",
    "#path for txt of contours:\n",
    "path1 = path1[:-4] + '.txt'\n",
    "path2 = path2[:-4] + '.txt'\n",
    "\n",
    "\n",
    "contours1 = read_contours(path1)\n",
    "contours2 = read_contours(path2)\n",
    "\n",
    "fluo = read_plot(fluo_path)\n",
    "\"\"\"\n",
    "\n"
   ]
  },
  {
   "cell_type": "code",
   "execution_count": 8,
   "id": "bd0fdbae",
   "metadata": {},
   "outputs": [],
   "source": [
    "#draw_contours(img1,img2,contours1,contours2,fluo)\n"
   ]
  },
  {
   "cell_type": "code",
   "execution_count": null,
   "id": "cf4ef60a",
   "metadata": {},
   "outputs": [],
   "source": []
  }
 ],
 "metadata": {
  "kernelspec": {
   "display_name": ".venv",
   "language": "python",
   "name": "python3"
  },
  "language_info": {
   "codemirror_mode": {
    "name": "ipython",
    "version": 3
   },
   "file_extension": ".py",
   "mimetype": "text/x-python",
   "name": "python",
   "nbconvert_exporter": "python",
   "pygments_lexer": "ipython3",
   "version": "3.10.9"
  }
 },
 "nbformat": 4,
 "nbformat_minor": 5
}
